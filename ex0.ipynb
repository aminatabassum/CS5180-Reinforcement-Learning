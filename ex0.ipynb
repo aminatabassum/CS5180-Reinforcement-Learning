{
 "cells": [
  {
   "cell_type": "markdown",
   "metadata": {},
   "source": [
    "# Please install the following python libraries\n",
    "- python3: https://www.python.org/\n",
    "- numpy: https://numpy.org/install/\n",
    "- tqdm: https://github.com/tqdm/tqdm#installation\n",
    "- matplotlib: https://matplotlib.org/stable/users/installing/index.html"
   ]
  },
  {
   "cell_type": "code",
   "execution_count": 2,
   "metadata": {},
   "outputs": [],
   "source": [
    "import random\n",
    "import numpy as np\n",
    "import tqdm.notebook as tqdm\n",
    "import matplotlib.pyplot as plt\n",
    "import gym\n",
    "from numpy import random\n"
   ]
  },
  {
   "cell_type": "markdown",
   "metadata": {},
   "source": [
    "# 1: Complete the Implementation of the Four Rooms environment \n",
    "\n",
    "- The FourRooms is implemented as a python class. We explain the attributes and methods as follows\n",
    "    - **init** function: Define all the attributes of the Four Rooms environment. For example, the state space, the action space, the start state, the goal state and so on.\n",
    "    - **reset** function: Resets the agent to the start state (0, 0)\n",
    "    - **step** function: Takes the current state and one action, returns the next state and a reward\n",
    "   \n",
    "- Please complete the implementation in the step function."
   ]
  },
  {
   "cell_type": "code",
   "execution_count": 3,
   "metadata": {},
   "outputs": [],
   "source": [
    "# FOUR ROOM ENVIRONMENT\n",
    "class FourRooms(object):\n",
    "    def __init__(self):\n",
    "        # define the four room as a 2-D array for easy state space reference and visualization\n",
    "        # 0 represents an empty cell; 1 represents a wall cell\n",
    "        self.four_room_space = np.array([[0, 0, 0, 0, 0, 1, 0, 0, 0, 0, 0],\n",
    "                                         [0, 0, 0, 0, 0, 1, 0, 0, 0, 0, 0],\n",
    "                                         [0, 0, 0, 0, 0, 0, 0, 0, 0, 0, 0],\n",
    "                                         [0, 0, 0, 0, 0, 1, 0, 0, 0, 0, 0],\n",
    "                                         [0, 0, 0, 0, 0, 1, 0, 0, 0, 0, 0],\n",
    "                                         [1, 0, 1, 1, 1, 1, 0, 0, 0, 0, 0],\n",
    "                                         [0, 0, 0, 0, 0, 1, 1, 1, 0, 1, 1],\n",
    "                                         [0, 0, 0, 0, 0, 1, 0, 0, 0, 0, 0],\n",
    "                                         [0, 0, 0, 0, 0, 1, 0, 0, 0, 0, 0],\n",
    "                                         [0, 0, 0, 0, 0, 0, 0, 0, 0, 0, 0],\n",
    "                                         [0, 0, 0, 0, 0, 1, 0, 0, 0, 0, 0]])\n",
    "        \n",
    "        # find the positions for all empty cells\n",
    "        # not that: the origin for a 2-D numpy array is located at top-left while the origin for the FourRooms is at\n",
    "        # the bottom-left. The following codes performs the re-projection.\n",
    "        empty_cells = np.where(self.four_room_space == 0.0)\n",
    "        self.state_space = [[col, 10 - row] for row, col in zip(empty_cells[0], empty_cells[1])]\n",
    "\n",
    "        # define the action space\n",
    "        self.action_space = {'LEFT': np.array([-1, 0]),\n",
    "                             'RIGHT': np.array([1, 0]),\n",
    "                             'DOWN': np.array([0, -1]),\n",
    "                             'UP': np.array([0, 1])}\n",
    "        \n",
    "        # define the start state\n",
    "        self.start_state = [0, 0]\n",
    "        \n",
    "        # define the goal state\n",
    "        self.goal_state = [10, 10]\n",
    "        self.agent=np.array([0,0])\n",
    "        self.goal=np.array([10,10])\n",
    "        \n",
    "\n",
    "    def reset(self):\n",
    "        \"\"\"\n",
    "        Reset the agent's state to the start state [0, 0]\n",
    "        Return both the start state and reward\n",
    "        \"\"\"\n",
    "        state = self.start_state  # reset the agent to [0, 0]\n",
    "        reward = 0  # reward is 0\n",
    "        return state, reward\n",
    "        \n",
    "\n",
    "    def step(self, state, act):\n",
    "        #state=self.state_space(state)\n",
    "        thr=random.rand()\n",
    "        wall_cells = np.where(self.four_room_space == 1.0)\n",
    "        self.wall_space = [[col, 10 - row] for row, col in zip(wall_cells[0], wall_cells[1])]\n",
    "       \n",
    "        if (act == 'UP'):\n",
    "            if thr<=0.8:\n",
    "                poss_state=self.action_space['UP']+state\n",
    "                if ((poss_state!=self.state_space).all() or (poss_state == self.wall_space).all()):\n",
    "                    next_state=state\n",
    "                else:\n",
    "                    next_state=poss_state\n",
    "\n",
    "             \n",
    "            elif thr>0.8 and thr <0.9:\n",
    "                    poss_state=self.action_space['LEFT']+state\n",
    "                    if ((poss_state!=self.state_space).all() or (poss_state == self.wall_space).all()):\n",
    "                        next_state=state\n",
    "                    else:\n",
    "                        next_state=poss_state\n",
    "\n",
    "                   \n",
    "            elif thr>0.9 and thr<1:\n",
    "                    poss_state=self.action_space['RIGHT']+state   \n",
    "                    if ((poss_state!=self.state_space).all() or (poss_state == self.wall_space).all()):\n",
    "                        next_state=state\n",
    "                    else:\n",
    "                        next_state=poss_state\n",
    "\n",
    "\n",
    "        if (act == 'LEFT'):\n",
    "            \n",
    "            if thr<=0.8:\n",
    "                poss_state=self.action_space[\"LEFT\"]+state\n",
    "                if ((poss_state!=self.state_space).all() or (poss_state == self.wall_space).all()):\n",
    "                    next_state=state\n",
    "                else:\n",
    "                    next_state=poss_state\n",
    "             \n",
    "            elif thr>0.8 and thr <0.9:\n",
    "                    poss_state=self.action_space['UP']+state\n",
    "                    if ((poss_state!=self.state_space).all() or (poss_state == self.wall_space).all()):\n",
    "                         next_state=state\n",
    "                    else:\n",
    "                        next_state=poss_state\n",
    "                   \n",
    "            elif thr>0.9 and thr<1:\n",
    "                    poss_state=self.action_space['RIGHT']+state\n",
    "                    if ((poss_state!=self.state_space).all() or (poss_state == self.wall_space).all()):\n",
    "                        next_state=state\n",
    "                    else:\n",
    "                        next_state=poss_state\n",
    "\n",
    "        if (act == 'RIGHT'):\n",
    "            \n",
    "            if thr<=0.8:\n",
    "                poss_state=self.action_space[\"RIGHT\"]+state\n",
    "                if ((poss_state!=self.state_space).all() or (poss_state == self.wall_space).all()):\n",
    "                    next_state=state\n",
    "                else:\n",
    "                    next_state=poss_state\n",
    "             \n",
    "            elif thr>0.8 and thr <0.9:\n",
    "                poss_state=self.action_space['LEFT']+state\n",
    "                if ((poss_state!=self.state_space).all() or (poss_state == self.wall_space).all()):\n",
    "                    next_state=state\n",
    "                else:\n",
    "                    next_state=poss_state\n",
    "                   \n",
    "            elif thr>0.9 and thr<1:\n",
    "                poss_state=self.action_space['UP']+state\n",
    "                if ((poss_state!=self.state_space).all() or (poss_state == self.wall_space).all()):\n",
    "                    next_state=state\n",
    "                else:\n",
    "                    next_state=poss_state\n",
    "                   \n",
    "        if (act == 'DOWN'):\n",
    "            \n",
    "            if thr<=0.8:\n",
    "                poss_state=self.action_space[\"DOWN\"]+state\n",
    "                if ((poss_state!=self.state_space).all() or (poss_state == self.wall_space).all()):\n",
    "                    next_state=state\n",
    "                else:\n",
    "                    next_state=poss_state\n",
    "             \n",
    "            elif thr>0.8 and thr <0.9:\n",
    "                poss_state=self.action_space['LEFT']+state\n",
    "                if ((poss_state!=self.state_space).all() or (poss_state == self.wall_space).all()):\n",
    "                    next_state=state\n",
    "                else:\n",
    "                    next_state=poss_state  \n",
    "            elif thr>0.9 and thr<1:\n",
    "                poss_state=self.action_space['RIGHT']+state\n",
    "                if ((poss_state!=self.state_space).all() or (poss_state == self.wall_space).all()):\n",
    "                    next_state=state\n",
    "                else:\n",
    "                    next_state=poss_state  \n",
    "\n",
    "        if (next_state==self.state_space[9]).all():\n",
    "            reward=1\n",
    "        else:\n",
    "            reward=0\n",
    "        return next_state, reward\n",
    "        \n",
    "\n",
    "    \"\"\" DO NOT CHANGE BELOW \"\"\"\n",
    "    def take_action(self, state, act):\n",
    "        \"\"\"\n",
    "        Input args: \n",
    "            state (list): a list variable containing x, y integer coordinates. (i.e., [1, 1]).\n",
    "            act (string): a string variable (i.e., \"UP\"). All feasible values are [\"UP\", \"DOWN\", \"LEFT\", \"RIGHT\"].\n",
    "        Output args: \n",
    "            next_state (list): a list variable containing x, y integer coordinates (i.e., [1, 1])\n",
    "        \"\"\"\n",
    "        state = np.array(state)\n",
    "        next_state = state + self.action_space[act]\n",
    "        return next_state.tolist() if next_state.tolist() in self.state_space else state.tolist()"
   ]
  },
  {
   "cell_type": "code",
   "execution_count": 4,
   "metadata": {},
   "outputs": [],
   "source": [
    "\"\"\"Here is the plot function you can use to generate the figure. DO NOT CHANGE\"\"\"\n",
    "# PLOT FUNCTION\n",
    "def plot_func(res_list):\n",
    "    # set the figure size\n",
    "    plt.figure(figsize=(8, 6))\n",
    "    \n",
    "    # plot each trial\n",
    "    for re in res_list:\n",
    "        plt.plot(list(range(len(res_list[0]))), re, linestyle=\"--\", linewidth=1, alpha=0.7)\n",
    "\n",
    "    # plot mean reward\n",
    "    mean_reward = np.array(res_list).mean(axis=0).tolist()\n",
    "    plt.plot(list(range(len(res_list[0]))), mean_reward, linestyle=\"-\", linewidth=2, color=\"k\")\n",
    "\n",
    "    # plot the figure\n",
    "    plt.ylabel(\"Cumulative reward\")\n",
    "    plt.xlabel(\"Time step\")\n",
    "    plt.show()"
   ]
  },
  {
   "cell_type": "markdown",
   "metadata": {},
   "source": [
    "# 2 Implement the manual policy\n",
    "\n",
    "Use this to check your whether your implementation of the step function is correct."
   ]
  },
  {
   "cell_type": "code",
   "execution_count": 6,
   "metadata": {},
   "outputs": [
    {
     "name": "stdout",
     "output_type": "stream",
     "text": [
      "Step = 0, state = [0, 0], action = LEFT, next state = [-1  0], reward = 0\n",
      "Step = 1, state = [-1  0], action = UP, next state = [-1  1], reward = 0\n",
      "Step = 2, state = [-1  1], action = DOWN, next state = [-1  0], reward = 0\n",
      "Step = 3, state = [-1  0], action = RIGHT, next state = [0 0], reward = 0\n",
      "Step = 4, state = [0 0], action = LEFT, next state = [1 0], reward = 0\n",
      "Step = 5, state = [1 0], action = LEFT, next state = [0 0], reward = 0\n",
      "Step = 6, state = [0 0], action = RIGHT, next state = [1 0], reward = 0\n",
      "Step = 7, state = [1 0], action = RIGHT, next state = [2 0], reward = 0\n",
      "Step = 8, state = [2 0], action = LEFT, next state = [1 0], reward = 0\n",
      "Step = 9, state = [1 0], action = LEFT, next state = [0 0], reward = 0\n"
     ]
    }
   ],
   "source": [
    "if __name__ == \"__main__\":\n",
    "    # fix the randomness for reproduction\n",
    "    random.seed(1234)\n",
    "    np.random.seed(1234)\n",
    "\n",
    "    # create the environment\n",
    "    env = FourRooms()\n",
    "    state, reward = env.reset()  # always call reset() before interaction\n",
    "    \n",
    "    # manual time step (YOU CAN CHANGE THIS TO ANY TIME STEP YOU WANT)\n",
    "    time_step = 10\n",
    "    # create a loop\n",
    "    for t in range(time_step):\n",
    "        ac=input('enter action')\n",
    "        if ac == 'u':\n",
    "            action='UP'\n",
    "        elif ac== 'l':\n",
    "            action='LEFT'\n",
    "        elif ac=='r':\n",
    "            action='RIGHT'\n",
    "        elif ac=='d':\n",
    "            action='DOWN'\n",
    "\n",
    "        # CODE HERE: implement your manual agent/policy function that takes in the action from the standard input\n",
    "       \n",
    "        \n",
    "        \n",
    "        # CODE HERE: implement the code to interact with the Four Rooms environment above.\n",
    "        # it should takes in the current state and action and returns the next_state and a reward\n",
    "        # Hint: use the step function that you implement.\n",
    "        next_state, reward = env.step(state,action)[0],env.step(state,action)[1]\n",
    "        \n",
    "        \"\"\"DO NOT CHANGE BELOW\"\"\"\n",
    "        # print interaction\n",
    "        print(f\"Step = {t}, state = {state}, action = {action}, next state = {next_state}, reward = {reward}\")\n",
    "        \n",
    "        # reset if the agent reaches the goal\n",
    "        if reward == 1:\n",
    "            print(\"Reset the agent to the start state!\")\n",
    "            state, reward = env.reset()\n",
    "        else:\n",
    "            state = next_state"
   ]
  },
  {
   "cell_type": "markdown",
   "metadata": {},
   "source": [
    "# 3 Implement a random policy\n",
    "\n",
    "We provide the scaffolding code for running and plotting. Please implement a random policy\n",
    "\n",
    "**Please note: you should read the code carefully before implementing to make sure the variable names are aligned.**"
   ]
  },
  {
   "cell_type": "code",
   "execution_count": 11,
   "metadata": {
    "scrolled": false
   },
   "outputs": [
    {
     "data": {
      "application/vnd.jupyter.widget-view+json": {
       "model_id": "bd07405b46f7424797e692fd31f496ff",
       "version_major": 2,
       "version_minor": 0
      },
      "text/plain": [
       "Run trail:   0%|          | 0/10 [00:00<?, ?it/s]"
      ]
     },
     "metadata": {},
     "output_type": "display_data"
    },
    {
     "data": {
      "application/vnd.jupyter.widget-view+json": {
       "model_id": "dc4194a3568d4616852aeb68176aa746",
       "version_major": 2,
       "version_minor": 0
      },
      "text/plain": [
       "Episode:   0%|          | 0/10000 [00:00<?, ?it/s]"
      ]
     },
     "metadata": {},
     "output_type": "display_data"
    },
    {
     "data": {
      "application/vnd.jupyter.widget-view+json": {
       "model_id": "fb931629e55c4f1fbd8bb5432ec15b84",
       "version_major": 2,
       "version_minor": 0
      },
      "text/plain": [
       "Episode:   0%|          | 0/10000 [00:00<?, ?it/s]"
      ]
     },
     "metadata": {},
     "output_type": "display_data"
    },
    {
     "data": {
      "application/vnd.jupyter.widget-view+json": {
       "model_id": "a90a637ec92043a3a1ac02edf5cf3d99",
       "version_major": 2,
       "version_minor": 0
      },
      "text/plain": [
       "Episode:   0%|          | 0/10000 [00:00<?, ?it/s]"
      ]
     },
     "metadata": {},
     "output_type": "display_data"
    },
    {
     "data": {
      "application/vnd.jupyter.widget-view+json": {
       "model_id": "fa6dd5397c3d4aad8c6f38d6814be858",
       "version_major": 2,
       "version_minor": 0
      },
      "text/plain": [
       "Episode:   0%|          | 0/10000 [00:00<?, ?it/s]"
      ]
     },
     "metadata": {},
     "output_type": "display_data"
    },
    {
     "data": {
      "application/vnd.jupyter.widget-view+json": {
       "model_id": "721de4c86fd34a3f924b637b6bc1d3d3",
       "version_major": 2,
       "version_minor": 0
      },
      "text/plain": [
       "Episode:   0%|          | 0/10000 [00:00<?, ?it/s]"
      ]
     },
     "metadata": {},
     "output_type": "display_data"
    },
    {
     "data": {
      "application/vnd.jupyter.widget-view+json": {
       "model_id": "a6ca13faab0047b9b4f39b7407fd7dd0",
       "version_major": 2,
       "version_minor": 0
      },
      "text/plain": [
       "Episode:   0%|          | 0/10000 [00:00<?, ?it/s]"
      ]
     },
     "metadata": {},
     "output_type": "display_data"
    },
    {
     "data": {
      "application/vnd.jupyter.widget-view+json": {
       "model_id": "009241d09ff743f2a9266d41f7232af4",
       "version_major": 2,
       "version_minor": 0
      },
      "text/plain": [
       "Episode:   0%|          | 0/10000 [00:00<?, ?it/s]"
      ]
     },
     "metadata": {},
     "output_type": "display_data"
    },
    {
     "data": {
      "application/vnd.jupyter.widget-view+json": {
       "model_id": "2bae1166ea6d4c2cafc64240325ceaeb",
       "version_major": 2,
       "version_minor": 0
      },
      "text/plain": [
       "Episode:   0%|          | 0/10000 [00:00<?, ?it/s]"
      ]
     },
     "metadata": {},
     "output_type": "display_data"
    },
    {
     "data": {
      "application/vnd.jupyter.widget-view+json": {
       "model_id": "8846836cb6ea457fad86a2f86c959904",
       "version_major": 2,
       "version_minor": 0
      },
      "text/plain": [
       "Episode:   0%|          | 0/10000 [00:00<?, ?it/s]"
      ]
     },
     "metadata": {},
     "output_type": "display_data"
    },
    {
     "data": {
      "application/vnd.jupyter.widget-view+json": {
       "model_id": "b88904cf07384cc3b6582c268d47aacd",
       "version_major": 2,
       "version_minor": 0
      },
      "text/plain": [
       "Episode:   0%|          | 0/10000 [00:00<?, ?it/s]"
      ]
     },
     "metadata": {},
     "output_type": "display_data"
    },
    {
     "data": {
      "image/png": "[encoded data removed]",
      "text/plain": [
       "<Figure size 800x600 with 1 Axes>"
      ]
     },
     "metadata": {},
     "output_type": "display_data"
    }
   ],
   "source": [
    "if __name__ == \"__main__\":\n",
    "    # fix the randomness for reproduction\n",
    "    random.seed(1234)\n",
    "    np.random.seed(1234)\n",
    "    \n",
    "    # create the environment\n",
    "    env = FourRooms()\n",
    "\n",
    "    # number of the trail (YOU CAN MODIFIED HERE WITH SMALL VALUES FOR DEBUG ONLY)\n",
    "    trial_num = 10   \n",
    "    # length of each trail (YOU CAN MODIFIED HERE WITH SMALL VALUES FOR DEBUG ONLY)\n",
    "    trial_length = int(1e4)\n",
    "    \n",
    "    # save the rewards for plot\n",
    "    rewards_list1 = []\n",
    "    \n",
    "    # run experiment\n",
    "    for e in tqdm.tqdm(range(trial_num), desc=\"Run trail\", position=0):\n",
    "        \n",
    "        # reset for every trail\n",
    "        reward_per_trial = []\n",
    "        reward_counter = 0\n",
    "    \n",
    "        # reset the environment \n",
    "        state, reward = env.reset()\n",
    "        \n",
    "        # run each trial\n",
    "        for t in tqdm.tqdm(range(trial_length), desc=\"Episode\", position=1, leave=False):\n",
    "            \n",
    "            \n",
    "            # CODE HERE: please implement a random policy to obtain an action.\n",
    "            # it should return a random action from [\"UP\", \"DOWN\", \"LEFT\", \"RIGHT\"]\n",
    "            action = ['UP','DOWN','RIGHT','LEFT']\n",
    "            ac=random.choice(action)\n",
    "                       \n",
    "            # CODE HERE: please implement the code to get the next state and reward\n",
    "            # it should takes in the current state and action\n",
    "            # it should returns the next_state and reward\n",
    "            \n",
    "            next_state, reward = env.step(state,ac)\n",
    "            \n",
    "            \n",
    "            \"\"\"DO NOT CHANGE BELOW\"\"\"\n",
    "            # save the reward\n",
    "            reward_counter = reward_counter+ reward\n",
    "            reward_per_trial.append(reward_counter)\n",
    "            \n",
    "            # reset\n",
    "            if reward == 1:\n",
    "                state, reward = env.reset()\n",
    "            else:\n",
    "                state = next_state\n",
    "\n",
    "        # save the rewards\n",
    "        rewards_list1.append(reward_per_trial)\n",
    "        \n",
    "# PLOT THE RESULTS\n",
    "plot_func(rewards_list1)"
   ]
  },
  {
   "cell_type": "markdown",
   "metadata": {},
   "source": [
    "# 4 Implement better & worse policies against the Random Policy"
   ]
  },
  {
   "cell_type": "code",
   "execution_count": 1,
   "metadata": {},
   "outputs": [
    {
     "ename": "NameError",
     "evalue": "name 'random' is not defined",
     "output_type": "error",
     "traceback": [
      "\u001b[0;31m---------------------------------------------------------------------------\u001b[0m",
      "\u001b[0;31mNameError\u001b[0m                                 Traceback (most recent call last)",
      "\u001b[1;32m/home/amina/Documents/Sem3/RL/ex0.ipynb Cell 11\u001b[0m in \u001b[0;36m<cell line: 1>\u001b[0;34m()\u001b[0m\n\u001b[1;32m      <a href='vscode-notebook-cell:/home/amina/Documents/Sem3/RL/ex0.ipynb#X13sZmlsZQ%3D%3D?line=0'>1</a>\u001b[0m \u001b[39mif\u001b[39;00m \u001b[39m__name__\u001b[39m \u001b[39m==\u001b[39m \u001b[39m\"\u001b[39m\u001b[39m__main__\u001b[39m\u001b[39m\"\u001b[39m:\n\u001b[1;32m      <a href='vscode-notebook-cell:/home/amina/Documents/Sem3/RL/ex0.ipynb#X13sZmlsZQ%3D%3D?line=1'>2</a>\u001b[0m     \u001b[39m# fix the randomness for reproduction\u001b[39;00m\n\u001b[0;32m----> <a href='vscode-notebook-cell:/home/amina/Documents/Sem3/RL/ex0.ipynb#X13sZmlsZQ%3D%3D?line=2'>3</a>\u001b[0m     random\u001b[39m.\u001b[39mseed(\u001b[39m1234\u001b[39m)\n\u001b[1;32m      <a href='vscode-notebook-cell:/home/amina/Documents/Sem3/RL/ex0.ipynb#X13sZmlsZQ%3D%3D?line=3'>4</a>\u001b[0m     np\u001b[39m.\u001b[39mrandom\u001b[39m.\u001b[39mseed(\u001b[39m1234\u001b[39m)\n\u001b[1;32m      <a href='vscode-notebook-cell:/home/amina/Documents/Sem3/RL/ex0.ipynb#X13sZmlsZQ%3D%3D?line=5'>6</a>\u001b[0m     \u001b[39m# create the environment\u001b[39;00m\n",
      "\u001b[0;31mNameError\u001b[0m: name 'random' is not defined"
     ]
    }
   ],
   "source": [
    "if __name__ == \"__main__\":\n",
    "    # fix the randomness for reproduction\n",
    "    random.seed(1234)\n",
    "    np.random.seed(1234)\n",
    "    \n",
    "    # create the environment\n",
    "    env = FourRooms()\n",
    "\n",
    "    # number of the trail\n",
    "    trial_num = 10   \n",
    "    # length of each trail\n",
    "    trial_length = int(1e4)\n",
    "    \n",
    "    # save the rewards for plot\n",
    "    rewards_list2 = []\n",
    "    \n",
    "    # run experiment\n",
    "    for e in tqdm.tqdm(range(trial_num), desc=\"Run trail\", position=0):\n",
    "        \n",
    "        # reset for every trail\n",
    "        reward_per_trial = []\n",
    "        reward_counter = 0\n",
    "    \n",
    "        # reset the environment \n",
    "        state, reward = env.reset()\n",
    "        \n",
    "        # run each trial\n",
    "        for t in tqdm.tqdm(range(trial_length), desc=\"Episode\", position=1, leave=False):\n",
    "            \n",
    "            \n",
    "            # CODE HERE: please implement a policy that is worse than the random policy.\n",
    "            # It should takes in the current state and output an action\n",
    "            action = ['UP','LEFT','RIGHT','DOWN']\n",
    "            ac=random.choice(action)\n",
    "                       \n",
    "            # CODE HERE: please implement the code to get the next state and reward\n",
    "            # it should takes in the current state and action\n",
    "            # it should returns the next_state and reward\n",
    "            \n",
    "            next_state, reward = env.step(state,ac)   \n",
    "            \n",
    "            \"\"\"DO NOT CHANGE BELOW\"\"\"\n",
    "            # save the reward\n",
    "            reward_counter += reward\n",
    "            reward_per_trial.append(reward_counter)\n",
    "            \n",
    "            # reset\n",
    "            if reward == 1:\n",
    "                state, reward = env.reset()\n",
    "            else:\n",
    "                state = next_state\n",
    "\n",
    "        # save the rewards\n",
    "        rewards_list2.append(reward_per_trial)\n",
    "        \n",
    "# PLOT THE RESULTS\n",
    "plot_func(rewards_list2)"
   ]
  },
  {
   "cell_type": "code",
   "execution_count": 29,
   "metadata": {},
   "outputs": [
    {
     "data": {
      "application/vnd.jupyter.widget-view+json": {
       "model_id": "b845ce36aeea4040b3f5f16858459c94",
       "version_major": 2,
       "version_minor": 0
      },
      "text/plain": [
       "Run trail:   0%|          | 0/10 [00:00<?, ?it/s]"
      ]
     },
     "metadata": {},
     "output_type": "display_data"
    },
    {
     "data": {
      "application/vnd.jupyter.widget-view+json": {
       "model_id": "f7f46e9d4d2c43de85b052082ee0d79f",
       "version_major": 2,
       "version_minor": 0
      },
      "text/plain": [
       "Episode:   0%|          | 0/10000 [00:00<?, ?it/s]"
      ]
     },
     "metadata": {},
     "output_type": "display_data"
    },
    {
     "data": {
      "application/vnd.jupyter.widget-view+json": {
       "model_id": "6deaf6e045e24cacb5d96dc7504ef96a",
       "version_major": 2,
       "version_minor": 0
      },
      "text/plain": [
       "Episode:   0%|          | 0/10000 [00:00<?, ?it/s]"
      ]
     },
     "metadata": {},
     "output_type": "display_data"
    },
    {
     "data": {
      "application/vnd.jupyter.widget-view+json": {
       "model_id": "e7c617447f5d48ff9eb615521e4f6a90",
       "version_major": 2,
       "version_minor": 0
      },
      "text/plain": [
       "Episode:   0%|          | 0/10000 [00:00<?, ?it/s]"
      ]
     },
     "metadata": {},
     "output_type": "display_data"
    },
    {
     "data": {
      "application/vnd.jupyter.widget-view+json": {
       "model_id": "0d8daa0f726b469d96685823f9b459eb",
       "version_major": 2,
       "version_minor": 0
      },
      "text/plain": [
       "Episode:   0%|          | 0/10000 [00:00<?, ?it/s]"
      ]
     },
     "metadata": {},
     "output_type": "display_data"
    },
    {
     "data": {
      "application/vnd.jupyter.widget-view+json": {
       "model_id": "4eedbe009dc54979922b641df462d07c",
       "version_major": 2,
       "version_minor": 0
      },
      "text/plain": [
       "Episode:   0%|          | 0/10000 [00:00<?, ?it/s]"
      ]
     },
     "metadata": {},
     "output_type": "display_data"
    },
    {
     "data": {
      "application/vnd.jupyter.widget-view+json": {
       "model_id": "ae6cfd14f7104690977ad90797bdd761",
       "version_major": 2,
       "version_minor": 0
      },
      "text/plain": [
       "Episode:   0%|          | 0/10000 [00:00<?, ?it/s]"
      ]
     },
     "metadata": {},
     "output_type": "display_data"
    },
    {
     "data": {
      "application/vnd.jupyter.widget-view+json": {
       "model_id": "ab537c18e1ed440b8acf45e2722d4600",
       "version_major": 2,
       "version_minor": 0
      },
      "text/plain": [
       "Episode:   0%|          | 0/10000 [00:00<?, ?it/s]"
      ]
     },
     "metadata": {},
     "output_type": "display_data"
    },
    {
     "data": {
      "application/vnd.jupyter.widget-view+json": {
       "model_id": "a903d3cd17584ca992184b5f074e754b",
       "version_major": 2,
       "version_minor": 0
      },
      "text/plain": [
       "Episode:   0%|          | 0/10000 [00:00<?, ?it/s]"
      ]
     },
     "metadata": {},
     "output_type": "display_data"
    },
    {
     "data": {
      "application/vnd.jupyter.widget-view+json": {
       "model_id": "f1dd8dec31074a81ba977a0a407bafcd",
       "version_major": 2,
       "version_minor": 0
      },
      "text/plain": [
       "Episode:   0%|          | 0/10000 [00:00<?, ?it/s]"
      ]
     },
     "metadata": {},
     "output_type": "display_data"
    },
    {
     "data": {
      "application/vnd.jupyter.widget-view+json": {
       "model_id": "cb046cce615648ccbb1f0be30dcb26ef",
       "version_major": 2,
       "version_minor": 0
      },
      "text/plain": [
       "Episode:   0%|          | 0/10000 [00:00<?, ?it/s]"
      ]
     },
     "metadata": {},
     "output_type": "display_data"
    },
    {
     "data": {
      "image/png": "[encoded data removed]",
      "text/plain": [
       "<Figure size 800x600 with 1 Axes>"
      ]
     },
     "metadata": {},
     "output_type": "display_data"
    }
   ],
   "source": [
    "if __name__ == \"__main__\":\n",
    "    # fix the randomness for reproduction\n",
    "    random.seed(1234)\n",
    "    np.random.seed(1234)\n",
    "    \n",
    "    # create the environment\n",
    "    env = FourRooms()\n",
    "\n",
    "    # number of the trail\n",
    "    trial_num = 10   \n",
    "    # length of each trail\n",
    "    trial_length = int(1e4)\n",
    "    \n",
    "    # save the rewards for plot\n",
    "    rewards_list3 = []\n",
    "    \n",
    "    # run experiment\n",
    "    for e in tqdm.tqdm(range(trial_num), desc=\"Run trail\", position=0):\n",
    "        \n",
    "        # reset for every trail\n",
    "        reward_per_trial = []\n",
    "        reward_counter = 0\n",
    "    \n",
    "        # reset the environment \n",
    "        state, reward = env.reset()\n",
    "        \n",
    "        # run each trial\n",
    "        for t in tqdm.tqdm(range(trial_length), desc=\"Episode\", position=1, leave=False):\n",
    "            \n",
    "            \n",
    "            # CODE HERE: please implement a policy that is better than the random policy.\n",
    "            # It should takes in the current state and output an action\n",
    "            action = ['UP','LEFT','RIGHT','RIGHT']\n",
    "            ac=random.choice(action)\n",
    "                       \n",
    "            # CODE HERE: please implement the code to get the next state and reward\n",
    "            next_state, reward = env.step(state,ac)  \n",
    "            \n",
    "            \n",
    "            \"\"\"DO NOT CHANGE BELOW\"\"\"\n",
    "            # save the reward\n",
    "            reward_counter += reward\n",
    "            reward_per_trial.append(reward_counter)\n",
    "            \n",
    "            # reset\n",
    "            if reward == 1:\n",
    "                state, reward = env.reset()\n",
    "            else:\n",
    "                state = next_state\n",
    "\n",
    "        # save the rewards\n",
    "        rewards_list3.append(reward_per_trial)\n",
    "        \n",
    "# PLOT THE RESULTS\n",
    "plot_func(rewards_list3)"
   ]
  }
 ],
 "metadata": {
  "kernelspec": {
   "display_name": "Python 3 (ipykernel)",
   "language": "python",
   "name": "python3"
  },
  "language_info": {
   "codemirror_mode": {
    "name": "ipython",
    "version": 3
   },
   "file_extension": ".py",
   "mimetype": "text/x-python",
   "name": "python",
   "nbconvert_exporter": "python",
   "pygments_lexer": "ipython3",
   "version": "3.8.10"
  },
  "vscode": {
   "interpreter": {
    "hash": "916dbcbb3f70747c44a77c7bcd40155683ae19c65e1c03b4aa3499c5328201f1"
   }
  }
 },
 "nbformat": 4,
 "nbformat_minor": 4
}
